{
 "cells": [
  {
   "cell_type": "code",
   "execution_count": 3,
   "metadata": {
    "scrolled": true
   },
   "outputs": [],
   "source": [
    "import mlrose_hiive\n",
    "import numpy as np\n",
    "import pandas as pd\n",
    "np.random.seed(1)"
   ]
  },
  {
   "cell_type": "code",
   "execution_count": 4,
   "metadata": {},
   "outputs": [],
   "source": [
    "rhc_run_stats = pd.read_pickle(\"./pickles/n_queen_rhc_run_stats.pkl\")\n",
    "rhc_run_curves = pd.read_pickle(\"./pickles/n_queen_rhc_run_curves.pkl\")\n",
    "sa_run_stats = pd.read_pickle(\"./pickles/n_queen_sa_run_stats.pkl\")\n",
    "sa_run_curves = pd.read_pickle(\"./pickles/n_queen_sa_run_curves.pkl\")\n",
    "ga_run_stats = pd.read_pickle(\"./pickles/n_queen_ga_run_stats.pkl\")\n",
    "ga_run_curves = pd.read_pickle(\"./pickles/n_queen_ga_run_curves.pkl\")\n",
    "mmc_run_stats = pd.read_pickle(\"./pickles/n_queen_mmc_run_stats.pkl\")\n",
    "mmc_run_curves = pd.read_pickle(\"./pickles/n_queen_mmc_run_curves.pkl\")"
   ]
  },
  {
   "cell_type": "markdown",
   "metadata": {},
   "source": [
    "## Define a Fitness Function"
   ]
  },
  {
   "cell_type": "code",
   "execution_count": 5,
   "metadata": {},
   "outputs": [],
   "source": [
    "# Custom fitness function for the N-Queens problem.\n",
    "# It calculates the number of non-attacking queen pairs.\n",
    "def queeens_max(state):\n",
    "    fitness_cnt = 0\n",
    "    for i in range(len(state)-1):\n",
    "        for j in range(i+1, len(state)):\n",
    "            # Check for non-attacking positions.\n",
    "            if (state[j] != state[i]) \\\n",
    "                and (state[j] != state[i] + (j-i)) \\\n",
    "                and (state[j] != state[i] - (j-i)):\n",
    "                \n",
    "                # Increment the count for each non-attacking pair.\n",
    "                fitness_cnt +=1\n",
    "\n",
    "    return fitness_cnt\n",
    "\n",
    "# Convert the custom fitness function for use with mlrose_hiive.\n",
    "fitness_cust = mlrose_hiive.CustomFitness(queeens_max)"
   ]
  },
  {
   "cell_type": "code",
   "execution_count": 17,
   "metadata": {},
   "outputs": [
    {
     "name": "stdout",
     "output_type": "stream",
     "text": [
      "With 64 queens on the board, there are a maximum of 2016 possible attacks if every queen could attack each other.\n"
     ]
    }
   ],
   "source": [
    "# Set the number of queens.\n",
    "number_of_queens = 64 \n",
    "\n",
    "# Calculate the total possible attacks using n(n-1)/2.\n",
    "possible_attack = number_of_queens * (number_of_queens - 1) // 2\n",
    "\n",
    "# Display the result.\n",
    "print(f\"With {number_of_queens} queens, there are {possible_attack} possible attacks.\")"
   ]
  },
  {
   "cell_type": "markdown",
   "metadata": {},
   "source": [
    "### Random Hill Climb"
   ]
  },
  {
   "cell_type": "code",
   "execution_count": 7,
   "metadata": {
    "scrolled": true
   },
   "outputs": [
    {
     "name": "stdout",
     "output_type": "stream",
     "text": [
      "Wall time: 16min 43s\n"
     ]
    }
   ],
   "source": [
    "%%time\n",
    "\n",
    "# Define optimization problem.\n",
    "problem = mlrose_hiive.DiscreteOpt(length=number_of_queens, \n",
    "                                   fitness_fn=fitness_cust, \n",
    "                                   maximize=True, \n",
    "                                   max_val=number_of_queens)\n",
    "\n",
    "# Initialize RHC optimization with specific parameters.\n",
    "runner_return = mlrose_hiive.RHCRunner(problem, \n",
    "                                       experiment_name=\"first_try\", \n",
    "                                       iteration_list=[10000], \n",
    "                                       seed=1, \n",
    "                                       max_attempts=100, \n",
    "                                       restart_list=[100])\n",
    "\n",
    "# Execute the RHC optimization.\n",
    "rhc_run_stats, rhc_run_curves = runner_return.run()"
   ]
  },
  {
   "cell_type": "code",
   "execution_count": 56,
   "metadata": {},
   "outputs": [
    {
     "name": "stdout",
     "output_type": "stream",
     "text": [
      "Random Hill Climbing - Overall Results:\n",
      "--------------------------------------\n",
      "Average Fitness: 1998.6336633663366\n",
      "Maximum Fitness: 2006.0\n",
      "Average Time for an Iteration: 374.74908096237624\n",
      "\n",
      "\n",
      "Random Hill Climbing - Average Fitness by Number of Restarts:\n",
      "-------------------------------------------------------------\n",
      "current_restart\n",
      "0      2001.0\n",
      "1      1997.0\n",
      "2      2000.0\n",
      "3      2001.0\n",
      "4      1996.0\n",
      "        ...  \n",
      "96     2004.0\n",
      "97     1996.0\n",
      "98     1994.0\n",
      "99     1994.0\n",
      "100    2006.0\n",
      "Name: Fitness, Length: 101, dtype: float64\n",
      "\n",
      "\n",
      "Random Hill Climbing - Average Time by Number of Restarts:\n",
      "----------------------------------------------------------\n",
      "current_restart\n",
      "0         1.008904\n",
      "1         2.571389\n",
      "2         4.307431\n",
      "3         6.620717\n",
      "4         8.229219\n",
      "          ...     \n",
      "96      934.952823\n",
      "97      950.870112\n",
      "98      966.686119\n",
      "99      980.167464\n",
      "100    1003.025922\n",
      "Name: Time, Length: 101, dtype: float64\n"
     ]
    }
   ],
   "source": [
    "# Filter out initial state (Iteration = 0) to focus on the optimization progress.\n",
    "last_iters = rhc_run_stats[rhc_run_stats.Iteration != 0].reset_index()\n",
    "\n",
    "# Calculate the average and maximum fitness values.\n",
    "print(\"Random Hill Climbing - Overall Results:\")\n",
    "print(\"--------------------------------------\")\n",
    "print(\"Average Fitness:\", last_iters.Fitness.mean())\n",
    "print(\"Maximum Fitness:\", last_iters.Fitness.max())\n",
    "\n",
    "# Identify and display the longest iteration time.\n",
    "print(\"Average Time for an Iteration:\", last_iters.Time.mean())\n",
    "print(\"\\n\")\n",
    "\n",
    "# Group results by Number of Restarts and calculate the average fitness.\n",
    "print(\"Random Hill Climbing - Average Fitness by Number of Restarts:\")\n",
    "print(\"-------------------------------------------------------------\")\n",
    "print(last_iters.groupby(\"current_restart\").Fitness.mean())\n",
    "print(\"\\n\")\n",
    "\n",
    "# Group results by Number of Restarts and calculate the average time taken.\n",
    "print(\"Random Hill Climbing - Average Time by Number of Restarts:\")\n",
    "print(\"----------------------------------------------------------\")\n",
    "print(last_iters.groupby(\"current_restart\").Time.mean())"
   ]
  },
  {
   "cell_type": "code",
   "execution_count": 40,
   "metadata": {},
   "outputs": [
    {
     "name": "stdout",
     "output_type": "stream",
     "text": [
      "Average Fitness: 1998.6336633663366\n",
      "Maximum Fitness: 2006.0\n",
      "Longest Time for an Iteration: 1003.0259215000001\n"
     ]
    }
   ],
   "source": [
    "# Filter out initial state (Iteration = 0) to focus on the optimization progress.\n",
    "last_iters = rhc_run_stats[rhc_run_stats.Iteration != 0].reset_index()\n",
    "\n",
    "# Calculate the average and maximum fitness values.\n",
    "average_fitness = last_iters.Fitness.mean()\n",
    "max_fitness = last_iters.Fitness.max()\n",
    "\n",
    "# Display the fitness results.\n",
    "print(\"Average Fitness:\", average_fitness)\n",
    "print(\"Maximum Fitness:\", max_fitness)\n",
    "\n",
    "# Identify and display the longest iteration time.\n",
    "max_time = last_iters.Time.max()\n",
    "print(\"Longest Time for an Iteration:\", max_time)"
   ]
  },
  {
   "cell_type": "code",
   "execution_count": 58,
   "metadata": {},
   "outputs": [
    {
     "name": "stdout",
     "output_type": "stream",
     "text": [
      "Random Hill Climbing - Results for Best Restart Parameter (100):\n",
      "--------------------------------------------------------------------------\n",
      "Average Fitness: 2006.0\n",
      "Maximum Fitness: 2006.0\n",
      "Average Time for an Iteration: 1003.0259215000001\n",
      "\n",
      "\n"
     ]
    }
   ],
   "source": [
    "# 1. Identify the best parameter set based on maximum fitness.\n",
    "best_restart = last_iters.loc[last_iters['Fitness'].idxmax()]['current_restart']\n",
    "\n",
    "# 2. Filter the results to only include data for the best parameter set.\n",
    "best_params_data = last_iters[last_iters['current_restart'] == best_restart]\n",
    "\n",
    "# 3. Compute the metrics for the best parameter set.\n",
    "print(f\"Random Hill Climbing - Results for Best Restart Parameter ({best_restart}):\")\n",
    "print(\"--------------------------------------------------------------------------\")\n",
    "print(\"Average Fitness:\", best_params_data.Fitness.mean())\n",
    "print(\"Maximum Fitness:\", best_params_data.Fitness.max())\n",
    "print(\"Average Time for an Iteration:\", best_params_data.Time.mean())\n",
    "print(\"\\n\")"
   ]
  },
  {
   "cell_type": "code",
   "execution_count": 10,
   "metadata": {},
   "outputs": [
    {
     "data": {
      "text/plain": [
       "100.0"
      ]
     },
     "execution_count": 10,
     "metadata": {},
     "output_type": "execute_result"
    }
   ],
   "source": [
    "# Find the index of the run with the highest fitness value\n",
    "best_index_in_curve = rhc_run_curves.Fitness.idxmax()\n",
    "\n",
    "# Extract the restart setting corresponding to the best fitness achieved\n",
    "best_restart = rhc_run_curves.iloc[best_index_in_curve].current_restart\n",
    "\n",
    "# Filter the curves to only include data from the best restart setting\n",
    "best_curve = rhc_run_curves[rhc_run_curves.current_restart == best_restart]\n",
    "\n",
    "# Reset the index for the filtered data for ease of access\n",
    "best_curve.reset_index(drop=True, inplace=True)\n",
    "\n",
    "best_restart"
   ]
  },
  {
   "cell_type": "code",
   "execution_count": 12,
   "metadata": {},
   "outputs": [
    {
     "data": {
      "image/png": "[encoded data removed]",
      "text/plain": [
       "<Figure size 864x576 with 1 Axes>"
      ]
     },
     "metadata": {
      "needs_background": "light"
     },
     "output_type": "display_data"
    }
   ],
   "source": [
    "# Plotting the best curve's fitness over iterations\n",
    "ax = best_curve.Fitness.plot(lw=2, \n",
    "                             color='blue',     # Set the line color to blue\n",
    "                             marker='.', \n",
    "                             markersize=2, \n",
    "                             figsize=(12,8), \n",
    "                             grid=True,        # Enable grid\n",
    "                             title='Best Random Search')\n",
    "\n",
    "# Set x-axis label with increased font size\n",
    "ax.set_xlabel(\"Iterations\", fontsize=14)\n",
    "\n",
    "# Set y-axis label with increased font size\n",
    "ax.set_ylabel(\"Value\", fontsize=14)\n",
    "\n",
    "# Set the title's font size larger\n",
    "ax.set_title('Best Random Search', fontsize=16)\n",
    "\n",
    "# Set grid appearance to grey and dotted\n",
    "ax.grid(True, linestyle='--', which='both', color='grey', alpha=.7)"
   ]
  },
  {
   "cell_type": "markdown",
   "metadata": {},
   "source": [
    "## Simulated Annealing"
   ]
  },
  {
   "cell_type": "code",
   "execution_count": 18,
   "metadata": {
    "scrolled": true
   },
   "outputs": [
    {
     "name": "stdout",
     "output_type": "stream",
     "text": [
      "Wall time: 3min 47s\n"
     ]
    }
   ],
   "source": [
    "%%time\n",
    "\n",
    "# Set up and execute Simulated Annealing optimization using various temperatures and decay strategies.\n",
    "# The goal is to see how different parameters affect the performance of the algorithm on the specified problem.\n",
    "sa = mlrose_hiive.SARunner(problem, \n",
    "                           experiment_name=\"SA_Exp\", \n",
    "                           iteration_list=[100000],\n",
    "                           temperature_list=[1, 10, 50, 100, 250, 500, 1000, 2500, 5000],\n",
    "                           decay_list=[mlrose_hiive.ExpDecay,\n",
    "                                       mlrose_hiive.GeomDecay],\n",
    "                           seed=1, \n",
    "                           max_attempts=100)\n",
    "\n",
    "# Run the Simulated Annealing and capture results.\n",
    "sa_run_stats, sa_run_curves = sa.run()"
   ]
  },
  {
   "cell_type": "code",
   "execution_count": 57,
   "metadata": {
    "scrolled": false
   },
   "outputs": [
    {
     "name": "stdout",
     "output_type": "stream",
     "text": [
      "SA - Average Fitness by Temperature:\n",
      "--------------------------------\n",
      "TempStr\n",
      "1       2010.0\n",
      "10      2010.5\n",
      "100     2009.0\n",
      "1000    2012.5\n",
      "250     2010.5\n",
      "2500    2010.5\n",
      "50      2006.5\n",
      "500     2009.0\n",
      "5000    2009.0\n",
      "Name: Fitness, dtype: float64\n",
      "\n",
      "\n",
      "SA - Average Time by Temperature:\n",
      "----------------------------\n",
      "TempStr\n",
      "1        9.184945\n",
      "10      10.752644\n",
      "100      9.581575\n",
      "1000    18.875782\n",
      "250     13.335927\n",
      "2500    15.919112\n",
      "50       6.714293\n",
      "500     13.745182\n",
      "5000    15.032849\n",
      "Name: Time, dtype: float64\n"
     ]
    }
   ],
   "source": [
    "# Filter out the initial state (Iteration = 0) from the Simulated Annealing run stats.\n",
    "last_iters_sa = sa_run_stats[sa_run_stats.Iteration != 0].reset_index()\n",
    "\n",
    "# Convert Temperature objects to their string representations.\n",
    "last_iters_sa[\"TempStr\"] = last_iters_sa[\"Temperature\"].apply(str)\n",
    "\n",
    "# Group the results by the string representation of Temperature and calculate the average fitness.\n",
    "print(\"SA - Average Fitness by Temperature:\")\n",
    "print(\"--------------------------------\")\n",
    "grouped_by_temperature = last_iters_sa.groupby(\"TempStr\").Fitness.mean()\n",
    "print(grouped_by_temperature)\n",
    "print(\"\\n\")\n",
    "\n",
    "# Additionally, you can check the average time taken for each temperature.\n",
    "print(\"SA - Average Time by Temperature:\")\n",
    "print(\"----------------------------\")\n",
    "grouped_time_by_temperature = last_iters_sa.groupby(\"TempStr\").Time.mean()\n",
    "print(grouped_time_by_temperature)"
   ]
  },
  {
   "cell_type": "code",
   "execution_count": 43,
   "metadata": {},
   "outputs": [
    {
     "name": "stdout",
     "output_type": "stream",
     "text": [
      "Average Fitness: 2009.7222222222222\n",
      "Maximum Fitness: 2013.0\n",
      "Average Time for an Iteration: 12.571367538888921\n"
     ]
    }
   ],
   "source": [
    "# Filter out initial state (Iteration = 0) to focus on the optimization progress with Simulated Annealing.\n",
    "last_iters = sa_run_stats[sa_run_stats.Iteration != 0].reset_index()\n",
    "\n",
    "# Calculate the average and maximum fitness values.\n",
    "average_fitness = last_iters.Fitness.mean()\n",
    "max_fitness = last_iters.Fitness.max()\n",
    "\n",
    "# Display the fitness results.\n",
    "print(\"Average Fitness:\", average_fitness)\n",
    "print(\"Maximum Fitness:\", max_fitness)\n",
    "\n",
    "# Calculate and display the average iteration time.\n",
    "average_time = last_iters.Time.mean()\n",
    "print(\"Average Time for an Iteration:\", average_time)"
   ]
  },
  {
   "cell_type": "code",
   "execution_count": 59,
   "metadata": {},
   "outputs": [
    {
     "name": "stdout",
     "output_type": "stream",
     "text": [
      "Simulated Annealing - Results for Best Parameters (Temperature: 1000, Decay Strategy: str):\n",
      "-----------------------------------------------------------------------------------------------------------------\n",
      "Average Fitness: 1977.0\n",
      "Maximum Fitness: 2013.0\n",
      "Average Time for an Iteration: 7.73908455000003\n",
      "\n",
      "\n"
     ]
    }
   ],
   "source": [
    "# 1. Identify the best parameter set based on maximum fitness.\n",
    "best_temp = sa_run_stats.loc[sa_run_stats['Fitness'].idxmax()]['Temperature']\n",
    "best_decay_strategy = sa_run_stats.loc[sa_run_stats['Fitness'].idxmax()]['schedule_type']\n",
    "\n",
    "# 2. Filter the results to only include data for the best parameter set.\n",
    "best_params_data = sa_run_stats[(sa_run_stats['Temperature'] == best_temp) & \n",
    "                                (sa_run_stats['schedule_type'] == best_decay_strategy)]\n",
    "\n",
    "# 3. Compute the metrics for the best parameter set.\n",
    "print(f\"Simulated Annealing - Results for Best Parameters (Temperature: {best_temp}, Decay Strategy: {best_decay_strategy}):\")\n",
    "print(\"-----------------------------------------------------------------------------------------------------------------\")\n",
    "print(\"Average Fitness:\", best_params_data.Fitness.mean())\n",
    "print(\"Maximum Fitness:\", best_params_data.Fitness.max())\n",
    "print(\"Average Time for an Iteration:\", best_params_data.Time.mean())\n",
    "print(\"\\n\")"
   ]
  },
  {
   "cell_type": "code",
   "execution_count": 44,
   "metadata": {},
   "outputs": [
    {
     "data": {
      "text/plain": [
       "GeomDecay(init_temp=1000, decay=0.99, min_temp=0.001)"
      ]
     },
     "execution_count": 44,
     "metadata": {},
     "output_type": "execute_result"
    }
   ],
   "source": [
    "# Find the index of the run with the highest fitness value.\n",
    "best_index_in_curve = sa_run_curves.Fitness.idxmax()\n",
    "\n",
    "# Extract the temperature setting corresponding to the best fitness achieved.\n",
    "best_temperature = sa_run_curves.iloc[best_index_in_curve].Temperature\n",
    "\n",
    "# Filter the curves to only include data from the best temperature setting.\n",
    "best_curve = sa_run_curves[sa_run_curves.Temperature == best_temperature]\n",
    "\n",
    "# Reset the index for the filtered data for ease of access.\n",
    "best_curve.reset_index(drop=True, inplace=True)\n",
    "\n",
    "best_temperature"
   ]
  },
  {
   "cell_type": "code",
   "execution_count": 23,
   "metadata": {
    "scrolled": false
   },
   "outputs": [
    {
     "data": {
      "image/png": "[encoded data removed]",
      "text/plain": [
       "<Figure size 864x576 with 1 Axes>"
      ]
     },
     "metadata": {
      "needs_background": "light"
     },
     "output_type": "display_data"
    }
   ],
   "source": [
    "# Plotting the best curve's fitness over iterations\n",
    "ax = best_curve.Fitness.plot(lw=2, \n",
    "                             color='blue',     # Set the line color to blue\n",
    "                             marker='.', \n",
    "                             markersize=2, \n",
    "                             figsize=(12,8), \n",
    "                             grid=True,        # Enable grid\n",
    "                             title='Best Simulated Annealing')\n",
    "\n",
    "# Set x-axis label with increased font size\n",
    "ax.set_xlabel(\"Iterations\", fontsize=14)\n",
    "\n",
    "# Set y-axis label with increased font size\n",
    "ax.set_ylabel(\"Value\", fontsize=14)\n",
    "\n",
    "# Set the title's font size larger\n",
    "ax.set_title('Best Simulated Annealing', fontsize=16)\n",
    "\n",
    "# Set grid appearance to grey and dotted\n",
    "ax.grid(True, linestyle='--', which='both', color='grey', alpha=.7)"
   ]
  },
  {
   "cell_type": "markdown",
   "metadata": {},
   "source": [
    "## Genetic Alg"
   ]
  },
  {
   "cell_type": "code",
   "execution_count": 24,
   "metadata": {
    "scrolled": true
   },
   "outputs": [
    {
     "name": "stdout",
     "output_type": "stream",
     "text": [
      "Wall time: 39min 20s\n"
     ]
    }
   ],
   "source": [
    "%%time\n",
    "\n",
    "# Set up Genetic Algorithm (GA) runner with various parameters for optimization.\n",
    "ga = mlrose_hiive.GARunner(problem=problem,\n",
    "                          experiment_name=\"GA_Exp\",\n",
    "                          seed=1,\n",
    "                          iteration_list=[100000],\n",
    "                          max_attempts=100,\n",
    "                          population_sizes=[50, 200, 500],     # Different population sizes to experiment with.\n",
    "                          mutation_rates=[0.1, 0.25, 0.5])     # Different mutation rates to experiment with.\n",
    "\n",
    "# Execute the GA optimization and store results.\n",
    "ga_run_stats, ga_run_curves = ga.run()"
   ]
  },
  {
   "cell_type": "code",
   "execution_count": 54,
   "metadata": {},
   "outputs": [
    {
     "name": "stdout",
     "output_type": "stream",
     "text": [
      "Genetic Algorithm - Max Fitness, Average Fitness, and Average Time per Iteration:\n",
      "--------------------------------------------------------------------------------\n",
      "Max Fitness: 2013.0\n",
      "Average Fitness: 2008.0\n",
      "Average Time per Iteration: 262.31073840000016\n",
      "\n",
      "\n",
      "Genetic Algorithm - Average Fitness by Mutation Rate:\n",
      "-----------------------------------------------------\n",
      "Mutation Rate\n",
      "0.10    2006.666667\n",
      "0.25    2009.666667\n",
      "0.50    2007.666667\n",
      "Name: Fitness, dtype: float64\n",
      "\n",
      "\n",
      "Genetic Algorithm - Average Time by Mutation Rate:\n",
      "--------------------------------------------------\n",
      "Mutation Rate\n",
      "0.10    217.046512\n",
      "0.25    286.277349\n",
      "0.50    283.608354\n",
      "Name: Time, dtype: float64\n",
      "\n",
      "\n",
      "Genetic Algorithm - Average Fitness by Population Size:\n",
      "-------------------------------------------------------\n",
      "Population Size\n",
      "50     2002.666667\n",
      "200    2009.000000\n",
      "500    2012.333333\n",
      "Name: Fitness, dtype: float64\n",
      "\n",
      "\n",
      "Genetic Algorithm - Average Time by Population Size:\n",
      "---------------------------------------------------\n",
      "Population Size\n",
      "50      42.911811\n",
      "200    165.513151\n",
      "500    578.507253\n",
      "Name: Time, dtype: float64\n"
     ]
    }
   ],
   "source": [
    "# Filter out the data from the initial state (Iteration = 0) for the Genetic Algorithm run.\n",
    "last_iters = ga_run_stats[ga_run_stats.Iteration != 0].reset_index()\n",
    "\n",
    "# Print the maximum fitness, average fitness, and the average time per iteration for the Genetic Algorithm.\n",
    "print(\"Genetic Algorithm - Max Fitness, Average Fitness, and Average Time per Iteration:\")\n",
    "print(\"--------------------------------------------------------------------------------\")\n",
    "print(\"Max Fitness:\", last_iters.Fitness.max())\n",
    "print(\"Average Fitness:\", last_iters.Fitness.mean())\n",
    "print(\"Average Time per Iteration:\", last_iters.Time.mean())\n",
    "print(\"\\n\")\n",
    "\n",
    "# Group the results by Mutation Rate and calculate the average fitness for each rate.\n",
    "print(\"Genetic Algorithm - Average Fitness by Mutation Rate:\")\n",
    "print(\"-----------------------------------------------------\")\n",
    "print(last_iters.groupby(\"Mutation Rate\").Fitness.mean())\n",
    "print(\"\\n\")\n",
    "\n",
    "# Group the results by Mutation Rate and calculate the average time taken for each rate.\n",
    "print(\"Genetic Algorithm - Average Time by Mutation Rate:\")\n",
    "print(\"--------------------------------------------------\")\n",
    "print(last_iters.groupby(\"Mutation Rate\").Time.mean())\n",
    "print(\"\\n\")\n",
    "\n",
    "# Group the results by Population Size and calculate the average fitness for each population size.\n",
    "print(\"Genetic Algorithm - Average Fitness by Population Size:\")\n",
    "print(\"-------------------------------------------------------\")\n",
    "print(last_iters.groupby(\"Population Size\").Fitness.mean())\n",
    "print(\"\\n\")\n",
    "\n",
    "# Group the results by Population Size and calculate the average time taken for each population size.\n",
    "print(\"Genetic Algorithm - Average Time by Population Size:\")\n",
    "print(\"---------------------------------------------------\")\n",
    "print(last_iters.groupby(\"Population Size\").Time.mean())"
   ]
  },
  {
   "cell_type": "code",
   "execution_count": 26,
   "metadata": {
    "scrolled": true
   },
   "outputs": [
    {
     "name": "stdout",
     "output_type": "stream",
     "text": [
      "GA Average Fitness: 2008.0\n",
      "GA Maximum Fitness: 2013.0\n",
      "GA Average Time for an Iteration: 262.31073840000016\n"
     ]
    }
   ],
   "source": [
    "# Filter out initial state (Iteration = 0) to focus on the optimization progress with Genetic Algorithm.\n",
    "last_iters_ga = ga_run_stats[ga_run_stats.Iteration != 0].reset_index()\n",
    "\n",
    "# Calculate the average and maximum fitness values for the GA run.\n",
    "average_fitness_ga = last_iters_ga.Fitness.mean()\n",
    "max_fitness_ga = last_iters_ga.Fitness.max()\n",
    "\n",
    "# Display the fitness results from the GA run.\n",
    "print(\"GA Average Fitness:\", average_fitness_ga)\n",
    "print(\"GA Maximum Fitness:\", max_fitness_ga)\n",
    "\n",
    "# Calculate and display the average iteration time for the GA run.\n",
    "average_time_ga = last_iters_ga.Time.mean()\n",
    "print(\"GA Average Time for an Iteration:\", average_time_ga)"
   ]
  },
  {
   "cell_type": "code",
   "execution_count": 61,
   "metadata": {},
   "outputs": [
    {
     "name": "stdout",
     "output_type": "stream",
     "text": [
      "Genetic Algorithm - Results for Best Parameters (Population Size: 500, Mutation Rate: 0.25):\n",
      "---------------------------------------------------------------------------------------------------------------------\n",
      "Average Fitness: 1984.0\n",
      "Maximum Fitness: 2013.0\n",
      "Average Time for an Iteration: 323.6664110500003\n",
      "\n",
      "\n"
     ]
    }
   ],
   "source": [
    "# 1. Identify the best parameter set based on maximum fitness.\n",
    "best_pop_size = ga_run_stats.loc[ga_run_stats['Fitness'].idxmax()]['Population Size']\n",
    "best_mutation_rate = ga_run_stats.loc[ga_run_stats['Fitness'].idxmax()]['Mutation Rate']\n",
    "\n",
    "# 2. Filter the results to only include data for the best parameter set.\n",
    "best_params_data = ga_run_stats[(ga_run_stats['Population Size'] == best_pop_size) & \n",
    "                                (ga_run_stats['Mutation Rate'] == best_mutation_rate)]\n",
    "\n",
    "# 3. Compute the metrics for the best parameter set.\n",
    "print(f\"Genetic Algorithm - Results for Best Parameters (Population Size: {best_pop_size}, Mutation Rate: {best_mutation_rate}):\")\n",
    "print(\"---------------------------------------------------------------------------------------------------------------------\")\n",
    "print(\"Average Fitness:\", best_params_data.Fitness.mean())\n",
    "print(\"Maximum Fitness:\", best_params_data.Fitness.max())\n",
    "print(\"Average Time for an Iteration:\", best_params_data.Time.mean())\n",
    "print(\"\\n\")"
   ]
  },
  {
   "cell_type": "code",
   "execution_count": 31,
   "metadata": {
    "scrolled": false
   },
   "outputs": [
    {
     "data": {
      "image/png": "[encoded data removed]",
      "text/plain": [
       "<Figure size 864x576 with 1 Axes>"
      ]
     },
     "metadata": {
      "needs_background": "light"
     },
     "output_type": "display_data"
    }
   ],
   "source": [
    "# Find the parameters corresponding to the run with the highest fitness value for GA\n",
    "best_params = ga_run_curves.iloc[ga_run_curves.Fitness.idxmax()]\n",
    "\n",
    "best_population_size = best_params['Population Size']\n",
    "best_mutation_rate = best_params['Mutation Rate']\n",
    "\n",
    "# Filter the curves to only include data from the best run\n",
    "best_ga_curve = ga_run_curves[(ga_run_curves['Population Size'] == best_population_size) & \n",
    "                              (ga_run_curves['Mutation Rate'] == best_mutation_rate)]\n",
    "\n",
    "# Plotting the best GA curve's fitness over iterations\n",
    "ax = best_ga_curve.Fitness.plot(lw=2, \n",
    "                                color='blue',     # Set the line color to blue\n",
    "                                marker='.', \n",
    "                                markersize=2, \n",
    "                                figsize=(12,8), \n",
    "                                grid=True,        # Enable grid\n",
    "                                title='Best Genetic Algorithm')\n",
    "\n",
    "# Set x-axis label with increased font size\n",
    "ax.set_xlabel(\"Iterations\", fontsize=14)\n",
    "\n",
    "# Set y-axis label with increased font size\n",
    "ax.set_ylabel(\"Value\", fontsize=14)\n",
    "\n",
    "# Set the title's font size larger\n",
    "ax.set_title('Best Genetic Algorithm', fontsize=16)\n",
    "\n",
    "# Set grid appearance to grey and dotted\n",
    "ax.grid(True, linestyle='--', which='both', color='grey', alpha=.7)"
   ]
  },
  {
   "cell_type": "markdown",
   "metadata": {},
   "source": [
    "## MIMIC"
   ]
  },
  {
   "cell_type": "code",
   "execution_count": 32,
   "metadata": {
    "scrolled": true
   },
   "outputs": [],
   "source": [
    "%%time\n",
    "\n",
    "# Initialize MIMIC optimization with various settings.\n",
    "mmc = mlrose_hiive.MIMICRunner(problem=problem,\n",
    "                               experiment_name=\"MMC_Exp\",\n",
    "                               seed=1,\n",
    "                               iteration_list=[100000],\n",
    "                               max_attempts=100,\n",
    "                               population_sizes=[50, 200, 500],\n",
    "                               keep_percent_list=[0.25, 0.5, 0.75],\n",
    "                               use_fast_mimic=True)\n",
    "\n",
    "# Run MIMIC and capture the statistics and curve results.\n",
    "mmc_run_stats, mmc_run_curves = mmc.run()"
   ]
  },
  {
   "cell_type": "code",
   "execution_count": 53,
   "metadata": {
    "scrolled": false
   },
   "outputs": [
    {
     "name": "stdout",
     "output_type": "stream",
     "text": [
      "MIMIC - Max Fitness, Average Fitness, and Average Time per Iteration:\n",
      "--------------------------------------------------------------------\n",
      "Max Fitness: 1986.0\n",
      "Average Fitness: 1972.7777777777778\n",
      "Average Time per Iteration: 1255.794327588889\n",
      "\n",
      "\n",
      "MIMIC - Average Fitness by Keep Percent:\n",
      "----------------------------------------\n",
      "Keep Percent\n",
      "0.25    1972.333333\n",
      "0.50    1975.000000\n",
      "0.75    1971.000000\n",
      "Name: Fitness, dtype: float64\n",
      "\n",
      "\n",
      "MIMIC - Average Time by Keep Percent:\n",
      "------------------------------------\n",
      "Keep Percent\n",
      "0.25    1167.415544\n",
      "0.50    1296.943698\n",
      "0.75    1303.023740\n",
      "Name: Time, dtype: float64\n",
      "\n",
      "\n",
      "MIMIC - Average Fitness by Population Size:\n",
      "-------------------------------------------\n",
      "Population Size\n",
      "50     1960.333333\n",
      "200    1974.666667\n",
      "500    1983.333333\n",
      "Name: Fitness, dtype: float64\n",
      "\n",
      "\n",
      "MIMIC - Average Time by Population Size:\n",
      "---------------------------------------\n",
      "Population Size\n",
      "50      405.084321\n",
      "200    1125.682980\n",
      "500    2236.615681\n",
      "Name: Time, dtype: float64\n"
     ]
    }
   ],
   "source": [
    "# Filter out the data from the initial state (Iteration = 0) for the MIMIC run.\n",
    "last_iters = mmc_run_stats[mmc_run_stats.Iteration != 0].reset_index()\n",
    "\n",
    "# Print the maximum fitness, average fitness, and the average time per iteration.\n",
    "print(\"MIMIC - Max Fitness, Average Fitness, and Average Time per Iteration:\")\n",
    "print(\"--------------------------------------------------------------------\")\n",
    "print(\"Max Fitness:\", last_iters.Fitness.max())\n",
    "print(\"Average Fitness:\", last_iters.Fitness.mean())\n",
    "print(\"Average Time per Iteration:\", last_iters.Time.mean())\n",
    "print(\"\\n\")\n",
    "\n",
    "# Group the results by Keep Percent and calculate the average fitness and average time for each percent.\n",
    "print(\"MIMIC - Average Fitness by Keep Percent:\")\n",
    "print(\"----------------------------------------\")\n",
    "print(last_iters.groupby(\"Keep Percent\").Fitness.mean())\n",
    "print(\"\\n\")\n",
    "\n",
    "print(\"MIMIC - Average Time by Keep Percent:\")\n",
    "print(\"------------------------------------\")\n",
    "print(last_iters.groupby(\"Keep Percent\").Time.mean())\n",
    "print(\"\\n\")\n",
    "\n",
    "# Group the results by Population Size and calculate the average fitness for each population size.\n",
    "print(\"MIMIC - Average Fitness by Population Size:\")\n",
    "print(\"-------------------------------------------\")\n",
    "print(last_iters.groupby(\"Population Size\").Fitness.mean())\n",
    "print(\"\\n\")\n",
    "\n",
    "# Group the results by Population Size and calculate the average time taken for each population size.\n",
    "print(\"MIMIC - Average Time by Population Size:\")\n",
    "print(\"---------------------------------------\")\n",
    "print(last_iters.groupby(\"Population Size\").Time.mean())"
   ]
  },
  {
   "cell_type": "code",
   "execution_count": 35,
   "metadata": {},
   "outputs": [
    {
     "name": "stdout",
     "output_type": "stream",
     "text": [
      "MMC Average Fitness: 1972.7777777777778\n",
      "MMC Maximum Fitness: 1986.0\n",
      "MMC Average Time for an Iteration: 1255.794327588889\n"
     ]
    }
   ],
   "source": [
    "# Filter out initial state (Iteration = 0) to focus on the optimization progress with MIMIC.\n",
    "last_iters_mmc = mmc_run_stats[mmc_run_stats.Iteration != 0].reset_index()\n",
    "\n",
    "# Calculate the average and maximum fitness values for the MMC run.\n",
    "average_fitness_mmc = last_iters_mmc.Fitness.mean()\n",
    "max_fitness_mmc = last_iters_mmc.Fitness.max()\n",
    "\n",
    "# Display the fitness results from the MMC run.\n",
    "print(\"MMC Average Fitness:\", average_fitness_mmc)\n",
    "print(\"MMC Maximum Fitness:\", max_fitness_mmc)\n",
    "\n",
    "# Calculate and display the average iteration time for the MMC run.\n",
    "average_time_mmc = last_iters_mmc.Time.mean()\n",
    "print(\"MMC Average Time for an Iteration:\", average_time_mmc)"
   ]
  },
  {
   "cell_type": "code",
   "execution_count": 62,
   "metadata": {},
   "outputs": [
    {
     "name": "stdout",
     "output_type": "stream",
     "text": [
      "MIMIC - Results for Best Parameters (Population Size: 500, Keep Percent: 0.5):\n",
      "----------------------------------------------------------------------------------------------------------------\n",
      "Average Fitness: 1963.5\n",
      "Maximum Fitness: 1986.0\n",
      "Average Time for an Iteration: 1178.1873846500011\n",
      "\n",
      "\n"
     ]
    }
   ],
   "source": [
    "# 1. Identify the best parameter set based on maximum fitness.\n",
    "best_pop_size = mmc_run_stats.loc[mmc_run_stats['Fitness'].idxmax()]['Population Size']\n",
    "best_keep_percent = mmc_run_stats.loc[mmc_run_stats['Fitness'].idxmax()]['Keep Percent']\n",
    "\n",
    "# 2. Filter the results to only include data for the best parameter set.\n",
    "best_params_data = mmc_run_stats[(mmc_run_stats['Population Size'] == best_pop_size) & \n",
    "                                 (mmc_run_stats['Keep Percent'] == best_keep_percent)]\n",
    "\n",
    "# 3. Compute the metrics for the best parameter set.\n",
    "print(f\"MIMIC - Results for Best Parameters (Population Size: {best_pop_size}, Keep Percent: {best_keep_percent}):\")\n",
    "print(\"----------------------------------------------------------------------------------------------------------------\")\n",
    "print(\"Average Fitness:\", best_params_data.Fitness.mean())\n",
    "print(\"Maximum Fitness:\", best_params_data.Fitness.max())\n",
    "print(\"Average Time for an Iteration:\", best_params_data.Time.mean())\n",
    "print(\"\\n\")"
   ]
  },
  {
   "cell_type": "code",
   "execution_count": 37,
   "metadata": {},
   "outputs": [
    {
     "data": {
      "image/png": "[encoded data removed]",
      "text/plain": [
       "<Figure size 864x576 with 1 Axes>"
      ]
     },
     "metadata": {
      "needs_background": "light"
     },
     "output_type": "display_data"
    }
   ],
   "source": [
    "# Find the parameters corresponding to the run with the highest fitness value for MMC\n",
    "best_params_mmc = mmc_run_curves.iloc[mmc_run_curves.Fitness.idxmax()]\n",
    "\n",
    "best_population_size_mmc = best_params_mmc['Population Size']\n",
    "best_keep_percent = best_params_mmc['Keep Percent']\n",
    "\n",
    "# Filter the curves to only include data from the best MMC run\n",
    "best_mmc_curve = mmc_run_curves[(mmc_run_curves['Population Size'] == best_population_size_mmc) & \n",
    "                                (mmc_run_curves['Keep Percent'] == best_keep_percent)]\n",
    "\n",
    "# Plotting the best MMC curve's fitness over iterations\n",
    "ax_mmc = best_mmc_curve.Fitness.plot(lw=2, \n",
    "                                     color='blue',     # Set the line color to green for distinction\n",
    "                                     marker='.', \n",
    "                                     markersize=2, \n",
    "                                     figsize=(12,8), \n",
    "                                     grid=True,        # Enable grid\n",
    "                                     title='Best MIMIC')\n",
    "\n",
    "# Set x-axis label with increased font size\n",
    "ax_mmc.set_xlabel(\"Iterations\", fontsize=14)\n",
    "\n",
    "# Set y-axis label with increased font size\n",
    "ax_mmc.set_ylabel(\"Value\", fontsize=14)\n",
    "\n",
    "# Set the title's font size larger\n",
    "ax_mmc.set_title('Best MIMIC', fontsize=16)\n",
    "\n",
    "# Set grid appearance to grey and dotted\n",
    "ax_mmc.grid(True, linestyle='--', which='both', color='grey', alpha=.7)"
   ]
  },
  {
   "cell_type": "code",
   "execution_count": 38,
   "metadata": {},
   "outputs": [],
   "source": [
    "rhc_run_stats.to_pickle(\"./n_queen_rhc_run_stats.pkl\")\n",
    "rhc_run_curves.to_pickle(\"./n_queen_rhc_run_curves.pkl\")\n",
    "sa_run_stats.to_pickle(\"./n_queen_sa_run_stats.pkl\")\n",
    "sa_run_curves.to_pickle(\"./n_queen_sa_run_curves.pkl\")\n",
    "ga_run_stats.to_pickle(\"./n_queen_ga_run_stats.pkl\")\n",
    "ga_run_curves.to_pickle(\"./n_queen_ga_run_curves.pkl\")\n",
    "mmc_run_stats.to_pickle(\"./n_queen_mmc_run_stats.pkl\")\n",
    "mmc_run_curves.to_pickle(\"./n_queen_mmc_run_curves.pkl\")"
   ]
  },
  {
   "cell_type": "code",
   "execution_count": 39,
   "metadata": {},
   "outputs": [
    {
     "data": {
      "text/html": [
       "<div>\n",
       "<style scoped>\n",
       "    .dataframe tbody tr th:only-of-type {\n",
       "        vertical-align: middle;\n",
       "    }\n",
       "\n",
       "    .dataframe tbody tr th {\n",
       "        vertical-align: top;\n",
       "    }\n",
       "\n",
       "    .dataframe thead th {\n",
       "        text-align: right;\n",
       "    }\n",
       "</style>\n",
       "<table border=\"1\" class=\"dataframe\">\n",
       "  <thead>\n",
       "    <tr style=\"text-align: right;\">\n",
       "      <th></th>\n",
       "      <th>Iteration</th>\n",
       "      <th>Fitness</th>\n",
       "      <th>FEvals</th>\n",
       "      <th>Time</th>\n",
       "      <th>State</th>\n",
       "      <th>Restarts</th>\n",
       "      <th>max_iters</th>\n",
       "      <th>current_restart</th>\n",
       "    </tr>\n",
       "  </thead>\n",
       "  <tbody>\n",
       "    <tr>\n",
       "      <th>0</th>\n",
       "      <td>0</td>\n",
       "      <td>1941.0</td>\n",
       "      <td>0</td>\n",
       "      <td>0.006555</td>\n",
       "      <td>[37, 43, 12, 8, 63, 9, 11, 5, 15, 0, 16, 1, 12...</td>\n",
       "      <td>100</td>\n",
       "      <td>10000</td>\n",
       "      <td>0</td>\n",
       "    </tr>\n",
       "    <tr>\n",
       "      <th>1</th>\n",
       "      <td>10000</td>\n",
       "      <td>2001.0</td>\n",
       "      <td>439</td>\n",
       "      <td>1.008904</td>\n",
       "      <td>[37, 43, 12, 53, 26, 16, 11, 40, 46, 53, 16, 2...</td>\n",
       "      <td>100</td>\n",
       "      <td>10000</td>\n",
       "      <td>0</td>\n",
       "    </tr>\n",
       "    <tr>\n",
       "      <th>2</th>\n",
       "      <td>0</td>\n",
       "      <td>1944.0</td>\n",
       "      <td>439</td>\n",
       "      <td>1.015031</td>\n",
       "      <td>[45, 0, 25, 40, 7, 7, 54, 33, 58, 7, 34, 4, 5,...</td>\n",
       "      <td>100</td>\n",
       "      <td>10000</td>\n",
       "      <td>1</td>\n",
       "    </tr>\n",
       "    <tr>\n",
       "      <th>3</th>\n",
       "      <td>10000</td>\n",
       "      <td>1997.0</td>\n",
       "      <td>980</td>\n",
       "      <td>2.571389</td>\n",
       "      <td>[45, 17, 25, 14, 9, 6, 54, 60, 43, 48, 34, 4, ...</td>\n",
       "      <td>100</td>\n",
       "      <td>10000</td>\n",
       "      <td>1</td>\n",
       "    </tr>\n",
       "    <tr>\n",
       "      <th>4</th>\n",
       "      <td>0</td>\n",
       "      <td>1947.0</td>\n",
       "      <td>980</td>\n",
       "      <td>2.578048</td>\n",
       "      <td>[2, 26, 51, 4, 16, 13, 4, 30, 52, 20, 36, 34, ...</td>\n",
       "      <td>100</td>\n",
       "      <td>10000</td>\n",
       "      <td>2</td>\n",
       "    </tr>\n",
       "    <tr>\n",
       "      <th>...</th>\n",
       "      <td>...</td>\n",
       "      <td>...</td>\n",
       "      <td>...</td>\n",
       "      <td>...</td>\n",
       "      <td>...</td>\n",
       "      <td>...</td>\n",
       "      <td>...</td>\n",
       "      <td>...</td>\n",
       "    </tr>\n",
       "    <tr>\n",
       "      <th>197</th>\n",
       "      <td>10000</td>\n",
       "      <td>1994.0</td>\n",
       "      <td>55098</td>\n",
       "      <td>966.686119</td>\n",
       "      <td>[3, 50, 29, 32, 5, 39, 60, 62, 7, 34, 30, 8, 4...</td>\n",
       "      <td>100</td>\n",
       "      <td>10000</td>\n",
       "      <td>98</td>\n",
       "    </tr>\n",
       "    <tr>\n",
       "      <th>198</th>\n",
       "      <td>0</td>\n",
       "      <td>1955.0</td>\n",
       "      <td>55098</td>\n",
       "      <td>966.777940</td>\n",
       "      <td>[15, 17, 46, 39, 28, 31, 14, 3, 21, 39, 55, 30...</td>\n",
       "      <td>100</td>\n",
       "      <td>10000</td>\n",
       "      <td>99</td>\n",
       "    </tr>\n",
       "    <tr>\n",
       "      <th>199</th>\n",
       "      <td>10000</td>\n",
       "      <td>1994.0</td>\n",
       "      <td>55531</td>\n",
       "      <td>980.167464</td>\n",
       "      <td>[15, 32, 46, 39, 20, 31, 14, 3, 21, 34, 57, 30...</td>\n",
       "      <td>100</td>\n",
       "      <td>10000</td>\n",
       "      <td>99</td>\n",
       "    </tr>\n",
       "    <tr>\n",
       "      <th>200</th>\n",
       "      <td>0</td>\n",
       "      <td>1946.0</td>\n",
       "      <td>55531</td>\n",
       "      <td>980.262416</td>\n",
       "      <td>[60, 19, 4, 10, 56, 55, 0, 58, 15, 34, 38, 54,...</td>\n",
       "      <td>100</td>\n",
       "      <td>10000</td>\n",
       "      <td>100</td>\n",
       "    </tr>\n",
       "    <tr>\n",
       "      <th>201</th>\n",
       "      <td>10000</td>\n",
       "      <td>2006.0</td>\n",
       "      <td>56248</td>\n",
       "      <td>1003.025922</td>\n",
       "      <td>[11, 19, 22, 10, 25, 53, 40, 46, 59, 6, 38, 54...</td>\n",
       "      <td>100</td>\n",
       "      <td>10000</td>\n",
       "      <td>100</td>\n",
       "    </tr>\n",
       "  </tbody>\n",
       "</table>\n",
       "<p>202 rows × 8 columns</p>\n",
       "</div>"
      ],
      "text/plain": [
       "     Iteration  Fitness  FEvals         Time  \\\n",
       "0            0   1941.0       0     0.006555   \n",
       "1        10000   2001.0     439     1.008904   \n",
       "2            0   1944.0     439     1.015031   \n",
       "3        10000   1997.0     980     2.571389   \n",
       "4            0   1947.0     980     2.578048   \n",
       "..         ...      ...     ...          ...   \n",
       "197      10000   1994.0   55098   966.686119   \n",
       "198          0   1955.0   55098   966.777940   \n",
       "199      10000   1994.0   55531   980.167464   \n",
       "200          0   1946.0   55531   980.262416   \n",
       "201      10000   2006.0   56248  1003.025922   \n",
       "\n",
       "                                                 State  Restarts  max_iters  \\\n",
       "0    [37, 43, 12, 8, 63, 9, 11, 5, 15, 0, 16, 1, 12...       100      10000   \n",
       "1    [37, 43, 12, 53, 26, 16, 11, 40, 46, 53, 16, 2...       100      10000   \n",
       "2    [45, 0, 25, 40, 7, 7, 54, 33, 58, 7, 34, 4, 5,...       100      10000   \n",
       "3    [45, 17, 25, 14, 9, 6, 54, 60, 43, 48, 34, 4, ...       100      10000   \n",
       "4    [2, 26, 51, 4, 16, 13, 4, 30, 52, 20, 36, 34, ...       100      10000   \n",
       "..                                                 ...       ...        ...   \n",
       "197  [3, 50, 29, 32, 5, 39, 60, 62, 7, 34, 30, 8, 4...       100      10000   \n",
       "198  [15, 17, 46, 39, 28, 31, 14, 3, 21, 39, 55, 30...       100      10000   \n",
       "199  [15, 32, 46, 39, 20, 31, 14, 3, 21, 34, 57, 30...       100      10000   \n",
       "200  [60, 19, 4, 10, 56, 55, 0, 58, 15, 34, 38, 54,...       100      10000   \n",
       "201  [11, 19, 22, 10, 25, 53, 40, 46, 59, 6, 38, 54...       100      10000   \n",
       "\n",
       "     current_restart  \n",
       "0                  0  \n",
       "1                  0  \n",
       "2                  1  \n",
       "3                  1  \n",
       "4                  2  \n",
       "..               ...  \n",
       "197               98  \n",
       "198               99  \n",
       "199               99  \n",
       "200              100  \n",
       "201              100  \n",
       "\n",
       "[202 rows x 8 columns]"
      ]
     },
     "execution_count": 39,
     "metadata": {},
     "output_type": "execute_result"
    }
   ],
   "source": [
    "df = pd.read_pickle(\"./n_queen_rhc_run_stats.pkl\")\n",
    "\n",
    "df"
   ]
  }
 ],
 "metadata": {
  "kernelspec": {
   "display_name": "Python 3 (ipykernel)",
   "language": "python",
   "name": "python3"
  },
  "language_info": {
   "codemirror_mode": {
    "name": "ipython",
    "version": 3
   },
   "file_extension": ".py",
   "mimetype": "text/x-python",
   "name": "python",
   "nbconvert_exporter": "python",
   "pygments_lexer": "ipython3",
   "version": "3.9.7"
  }
 },
 "nbformat": 4,
 "nbformat_minor": 4
}
