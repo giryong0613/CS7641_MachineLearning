{
 "cells": [
  {
   "cell_type": "code",
   "execution_count": 1,
   "metadata": {},
   "outputs": [],
   "source": [
    "import mlrose_hiive\n",
    "import numpy as np\n",
    "import pandas as pd\n",
    "np.random.seed(1)"
   ]
  },
  {
   "cell_type": "code",
   "execution_count": 3,
   "metadata": {},
   "outputs": [],
   "source": [
    "rhc_run_stats = pd.read_pickle(\"./pickles/flipFlop_rhc_run_stats.pkl\")\n",
    "rhc_run_curves = pd.read_pickle(\"./pickles/flipFlop_rhc_run_curves.pkl\")\n",
    "sa_run_stats = pd.read_pickle(\"./pickles/flipFlop_sa_run_stats.pkl\")\n",
    "sa_run_curves = pd.read_pickle(\"./pickles/flipFlop_sa_run_curves.pkl\")\n",
    "ga_run_stats = pd.read_pickle(\"./pickles/flipFlop_ga_run_stats.pkl\")\n",
    "ga_run_curves = pd.read_pickle(\"./pickles/flipFlop_ga_run_curves.pkl\")\n",
    "mmc_run_stats = pd.read_pickle(\"./pickles/flipFlop_mmc_run_stats.pkl\")\n",
    "mmc_run_curves = pd.read_pickle(\"./pickles/flipFlop_mmc_run_curves.pkl\")"
   ]
  },
  {
   "cell_type": "markdown",
   "metadata": {},
   "source": [
    "## Define a Fitness Function"
   ]
  },
  {
   "cell_type": "code",
   "execution_count": 2,
   "metadata": {},
   "outputs": [],
   "source": [
    "# Define the length of the FlipFlop problem.\n",
    "flip_len = 500\n",
    "\n",
    "# Initialize a FlipFlop optimization problem with the defined length.\n",
    "problem = mlrose_hiive.FlipFlopOpt(length=flip_len)"
   ]
  },
  {
   "cell_type": "markdown",
   "metadata": {},
   "source": [
    "### Random Hill Climb"
   ]
  },
  {
   "cell_type": "code",
   "execution_count": 3,
   "metadata": {
    "scrolled": true
   },
   "outputs": [
    {
     "name": "stdout",
     "output_type": "stream",
     "text": [
      "Wall time: 50min 1s\n"
     ]
    }
   ],
   "source": [
    "%%time\n",
    "\n",
    "# Initialize RHC optimization with specific parameters.\n",
    "runner_return = mlrose_hiive.RHCRunner(problem, \n",
    "                                       experiment_name=\"first_try\", \n",
    "                                       iteration_list=[10000],\n",
    "                                       seed=1, \n",
    "                                       max_attempts=100, \n",
    "                                       restart_list=[100])\n",
    "\n",
    "# Execute the RHC optimization.\n",
    "rhc_run_stats, rhc_run_curves = runner_return.run()"
   ]
  },
  {
   "cell_type": "code",
   "execution_count": 27,
   "metadata": {
    "scrolled": false
   },
   "outputs": [
    {
     "name": "stdout",
     "output_type": "stream",
     "text": [
      "Random Hill Climbing - Overall Results:\n",
      "--------------------------------------\n",
      "Average Fitness: 390.43564356435644\n",
      "Maximum Fitness: 414.0\n",
      "Average Time for an Iteration: 1026.6147457108914\n",
      "\n",
      "\n",
      "Random Hill Climbing - Average Fitness by Number of Restarts:\n",
      "-------------------------------------------------------------\n",
      "current_restart\n",
      "0      378.0\n",
      "1      390.0\n",
      "2      376.0\n",
      "3      377.0\n",
      "4      393.0\n",
      "       ...  \n",
      "96     397.0\n",
      "97     382.0\n",
      "98     397.0\n",
      "99     385.0\n",
      "100    388.0\n",
      "Name: Fitness, Length: 101, dtype: float64\n",
      "\n",
      "\n",
      "Random Hill Climbing - Average Time by Number of Restarts:\n",
      "----------------------------------------------------------\n",
      "current_restart\n",
      "0         1.024746\n",
      "1         3.222039\n",
      "2         5.080985\n",
      "3         6.917032\n",
      "4        10.663103\n",
      "          ...     \n",
      "96     2796.704143\n",
      "97     2844.152636\n",
      "98     2908.870154\n",
      "99     2956.010089\n",
      "100    3001.666880\n",
      "Name: Time, Length: 101, dtype: float64\n"
     ]
    }
   ],
   "source": [
    "# Filter out initial state (Iteration = 0) to focus on the optimization progress.\n",
    "last_iters = rhc_run_stats[rhc_run_stats.Iteration != 0].reset_index()\n",
    "\n",
    "# Calculate the average and maximum fitness values.\n",
    "print(\"Random Hill Climbing - Overall Results:\")\n",
    "print(\"--------------------------------------\")\n",
    "print(\"Average Fitness:\", last_iters.Fitness.mean())\n",
    "print(\"Maximum Fitness:\", last_iters.Fitness.max())\n",
    "\n",
    "# Identify and display the longest iteration time.\n",
    "print(\"Average Time for an Iteration:\", last_iters.Time.mean())\n",
    "print(\"\\n\")\n",
    "\n",
    "# Group results by Number of Restarts and calculate the average fitness.\n",
    "print(\"Random Hill Climbing - Average Fitness by Number of Restarts:\")\n",
    "print(\"-------------------------------------------------------------\")\n",
    "print(last_iters.groupby(\"current_restart\").Fitness.mean())\n",
    "print(\"\\n\")\n",
    "\n",
    "# Group results by Number of Restarts and calculate the average time taken.\n",
    "print(\"Random Hill Climbing - Average Time by Number of Restarts:\")\n",
    "print(\"----------------------------------------------------------\")\n",
    "print(last_iters.groupby(\"current_restart\").Time.mean())"
   ]
  },
  {
   "cell_type": "code",
   "execution_count": 4,
   "metadata": {},
   "outputs": [
    {
     "name": "stdout",
     "output_type": "stream",
     "text": [
      "Average Fitness: 390.43564356435644\n",
      "Maximum Fitness: 414.0\n",
      "Longest Time for an Iteration: 3001.666879700001\n"
     ]
    }
   ],
   "source": [
    "# Filter out initial state (Iteration = 0) to focus on the optimization progress.\n",
    "last_iters = rhc_run_stats[rhc_run_stats.Iteration != 0].reset_index()\n",
    "\n",
    "# Calculate the average and maximum fitness values.\n",
    "average_fitness = last_iters.Fitness.mean()\n",
    "max_fitness = last_iters.Fitness.max()\n",
    "\n",
    "# Display the fitness results.\n",
    "print(\"Average Fitness:\", average_fitness)\n",
    "print(\"Maximum Fitness:\", max_fitness)\n",
    "\n",
    "# Identify and display the longest iteration time.\n",
    "max_time = last_iters.Time.max()\n",
    "print(\"Longest Time for an Iteration:\", max_time)"
   ]
  },
  {
   "cell_type": "code",
   "execution_count": 29,
   "metadata": {},
   "outputs": [
    {
     "name": "stdout",
     "output_type": "stream",
     "text": [
      "Random Hill Climbing - Results for Best Restart Parameter (65):\n",
      "--------------------------------------------------------------------------\n",
      "Average Fitness: 414.0\n",
      "Maximum Fitness: 414.0\n",
      "Average Time for an Iteration: 1344.0951687000006\n",
      "\n",
      "\n"
     ]
    }
   ],
   "source": [
    "# 1. Identify the best parameter set based on maximum fitness.\n",
    "best_restart = last_iters.loc[last_iters['Fitness'].idxmax()]['current_restart']\n",
    "\n",
    "# 2. Filter the results to only include data for the best parameter set.\n",
    "best_params_data = last_iters[last_iters['current_restart'] == best_restart]\n",
    "\n",
    "# 3. Compute the metrics for the best parameter set.\n",
    "print(f\"Random Hill Climbing - Results for Best Restart Parameter ({best_restart}):\")\n",
    "print(\"--------------------------------------------------------------------------\")\n",
    "print(\"Average Fitness:\", best_params_data.Fitness.mean())\n",
    "print(\"Maximum Fitness:\", best_params_data.Fitness.max())\n",
    "print(\"Average Time for an Iteration:\", best_params_data.Time.mean())\n",
    "print(\"\\n\")"
   ]
  },
  {
   "cell_type": "code",
   "execution_count": 5,
   "metadata": {},
   "outputs": [
    {
     "data": {
      "text/plain": [
       "65.0"
      ]
     },
     "execution_count": 5,
     "metadata": {},
     "output_type": "execute_result"
    }
   ],
   "source": [
    "# Find the index of the run with the highest fitness value\n",
    "best_index_in_curve = rhc_run_curves.Fitness.idxmax()\n",
    "\n",
    "# Extract the restart setting corresponding to the best fitness achieved\n",
    "best_restart = rhc_run_curves.iloc[best_index_in_curve].current_restart\n",
    "\n",
    "# Filter the curves to only include data from the best restart setting\n",
    "best_curve = rhc_run_curves[rhc_run_curves.current_restart == best_restart]\n",
    "\n",
    "# Reset the index for the filtered data for ease of access\n",
    "best_curve.reset_index(drop=True, inplace=True)\n",
    "\n",
    "best_restart"
   ]
  },
  {
   "cell_type": "code",
   "execution_count": 6,
   "metadata": {},
   "outputs": [
    {
     "data": {
      "image/png": "[encoded data removed]",
      "text/plain": [
       "<Figure size 864x576 with 1 Axes>"
      ]
     },
     "metadata": {
      "needs_background": "light"
     },
     "output_type": "display_data"
    }
   ],
   "source": [
    "# Plotting the best curve's fitness over iterations\n",
    "ax = best_curve.Fitness.plot(lw=2, \n",
    "                             color='blue',     # Set the line color to blue\n",
    "                             marker='.', \n",
    "                             markersize=2, \n",
    "                             figsize=(12,8), \n",
    "                             grid=True,        # Enable grid\n",
    "                             title='Best Random Search')\n",
    "\n",
    "# Set x-axis label with increased font size\n",
    "ax.set_xlabel(\"Iterations\", fontsize=14)\n",
    "\n",
    "# Set y-axis label with increased font size\n",
    "ax.set_ylabel(\"Value\", fontsize=14)\n",
    "\n",
    "# Set the title's font size larger\n",
    "ax.set_title('Best Random Search', fontsize=16)\n",
    "\n",
    "# Set grid appearance to grey and dotted\n",
    "ax.grid(True, linestyle='--', which='both', color='grey', alpha=.7)"
   ]
  },
  {
   "cell_type": "markdown",
   "metadata": {},
   "source": [
    "## Simulated Annealing"
   ]
  },
  {
   "cell_type": "code",
   "execution_count": 7,
   "metadata": {
    "scrolled": true
   },
   "outputs": [
    {
     "name": "stdout",
     "output_type": "stream",
     "text": [
      "Wall time: 39min 56s\n"
     ]
    }
   ],
   "source": [
    "%%time\n",
    "\n",
    "# Set up and execute Simulated Annealing optimization using various temperatures and decay strategies.\n",
    "# The goal is to see how different parameters affect the performance of the algorithm on the specified problem.\n",
    "sa = mlrose_hiive.SARunner(problem, \n",
    "                           experiment_name=\"SA_Exp\", \n",
    "                           iteration_list=[100000],\n",
    "                           temperature_list=[1, 10, 50, 100, 250],\n",
    "                           decay_list=[mlrose_hiive.ExpDecay,\n",
    "                                       mlrose_hiive.GeomDecay],\n",
    "                           seed=1, \n",
    "                           max_attempts=100)\n",
    "\n",
    "# Run the Simulated Annealing and capture results.\n",
    "sa_run_stats, sa_run_curves = sa.run()   "
   ]
  },
  {
   "cell_type": "code",
   "execution_count": 28,
   "metadata": {},
   "outputs": [
    {
     "name": "stdout",
     "output_type": "stream",
     "text": [
      "SA - Average Fitness by Temperature:\n",
      "--------------------------------\n",
      "TempStr\n",
      "1      485.5\n",
      "10     484.0\n",
      "100    480.5\n",
      "250    486.0\n",
      "50     487.0\n",
      "Name: Fitness, dtype: float64\n",
      "\n",
      "\n",
      "SA - Average Time by Temperature:\n",
      "----------------------------\n",
      "TempStr\n",
      "1      236.544864\n",
      "10     181.877105\n",
      "100    105.881486\n",
      "250    385.139610\n",
      "50     286.992989\n",
      "Name: Time, dtype: float64\n"
     ]
    }
   ],
   "source": [
    "# Filter out the initial state (Iteration = 0) from the Simulated Annealing run stats.\n",
    "last_iters_sa = sa_run_stats[sa_run_stats.Iteration != 0].reset_index()\n",
    "\n",
    "# Convert Temperature objects to their string representations.\n",
    "last_iters_sa[\"TempStr\"] = last_iters_sa[\"Temperature\"].apply(str)\n",
    "\n",
    "# Group the results by the string representation of Temperature and calculate the average fitness.\n",
    "print(\"SA - Average Fitness by Temperature:\")\n",
    "print(\"--------------------------------\")\n",
    "grouped_by_temperature = last_iters_sa.groupby(\"TempStr\").Fitness.mean()\n",
    "print(grouped_by_temperature)\n",
    "print(\"\\n\")\n",
    "\n",
    "# Additionally, you can check the average time taken for each temperature.\n",
    "print(\"SA - Average Time by Temperature:\")\n",
    "print(\"----------------------------\")\n",
    "grouped_time_by_temperature = last_iters_sa.groupby(\"TempStr\").Time.mean()\n",
    "print(grouped_time_by_temperature)"
   ]
  },
  {
   "cell_type": "code",
   "execution_count": 8,
   "metadata": {},
   "outputs": [
    {
     "name": "stdout",
     "output_type": "stream",
     "text": [
      "Average Fitness: 484.6\n",
      "Maximum Fitness: 488.0\n",
      "Average Time for an Iteration: 239.2872109400001\n"
     ]
    }
   ],
   "source": [
    "# Filter out initial state (Iteration = 0) to focus on the optimization progress with Simulated Annealing.\n",
    "last_iters = sa_run_stats[sa_run_stats.Iteration != 0].reset_index()\n",
    "\n",
    "# Calculate the average and maximum fitness values.\n",
    "average_fitness = last_iters.Fitness.mean()\n",
    "max_fitness = last_iters.Fitness.max()\n",
    "\n",
    "# Display the fitness results.\n",
    "print(\"Average Fitness:\", average_fitness)\n",
    "print(\"Maximum Fitness:\", max_fitness)\n",
    "\n",
    "# Calculate and display the average iteration time.\n",
    "average_time = last_iters.Time.mean()\n",
    "print(\"Average Time for an Iteration:\", average_time)"
   ]
  },
  {
   "cell_type": "code",
   "execution_count": 30,
   "metadata": {},
   "outputs": [
    {
     "name": "stdout",
     "output_type": "stream",
     "text": [
      "Simulated Annealing - Results for Best Parameters (Temperature: 50, Decay Strategy: exponential):\n",
      "-----------------------------------------------------------------------------------------------------------------\n",
      "Average Fitness: 363.5\n",
      "Maximum Fitness: 488.0\n",
      "Average Time for an Iteration: 110.88078830000086\n",
      "\n",
      "\n"
     ]
    }
   ],
   "source": [
    "# 1. Identify the best parameter set based on maximum fitness.\n",
    "best_temp = sa_run_stats.loc[sa_run_stats['Fitness'].idxmax()]['Temperature']\n",
    "best_decay_strategy = sa_run_stats.loc[sa_run_stats['Fitness'].idxmax()]['schedule_type']\n",
    "\n",
    "# 2. Filter the results to only include data for the best parameter set.\n",
    "best_params_data = sa_run_stats[(sa_run_stats['Temperature'] == best_temp) & \n",
    "                                (sa_run_stats['schedule_type'] == best_decay_strategy)]\n",
    "\n",
    "# 3. Compute the metrics for the best parameter set.\n",
    "print(f\"Simulated Annealing - Results for Best Parameters (Temperature: {best_temp}, Decay Strategy: {best_decay_strategy}):\")\n",
    "print(\"-----------------------------------------------------------------------------------------------------------------\")\n",
    "print(\"Average Fitness:\", best_params_data.Fitness.mean())\n",
    "print(\"Maximum Fitness:\", best_params_data.Fitness.max())\n",
    "print(\"Average Time for an Iteration:\", best_params_data.Time.mean())\n",
    "print(\"\\n\")"
   ]
  },
  {
   "cell_type": "code",
   "execution_count": 9,
   "metadata": {},
   "outputs": [
    {
     "data": {
      "text/plain": [
       "ExpDecay(init_temp=50, exp_const=0.005, min_temp=0.001)"
      ]
     },
     "execution_count": 9,
     "metadata": {},
     "output_type": "execute_result"
    }
   ],
   "source": [
    "# Find the index of the run with the highest fitness value.\n",
    "best_index_in_curve = sa_run_curves.Fitness.idxmax()\n",
    "\n",
    "# Extract the temperature setting corresponding to the best fitness achieved.\n",
    "best_temperature = sa_run_curves.iloc[best_index_in_curve].Temperature\n",
    "\n",
    "# Filter the curves to only include data from the best temperature setting.\n",
    "best_curve = sa_run_curves[sa_run_curves.Temperature == best_temperature]\n",
    "\n",
    "# Reset the index for the filtered data for ease of access.\n",
    "best_curve.reset_index(drop=True, inplace=True)\n",
    "\n",
    "best_temperature"
   ]
  },
  {
   "cell_type": "code",
   "execution_count": 10,
   "metadata": {},
   "outputs": [
    {
     "data": {
      "image/png": "[encoded data removed]",
      "text/plain": [
       "<Figure size 864x576 with 1 Axes>"
      ]
     },
     "metadata": {
      "needs_background": "light"
     },
     "output_type": "display_data"
    }
   ],
   "source": [
    "# Plotting the best curve's fitness over iterations\n",
    "ax = best_curve.Fitness.plot(lw=2, \n",
    "                             color='blue',     # Set the line color to blue\n",
    "                             marker='.', \n",
    "                             markersize=2, \n",
    "                             figsize=(12,8), \n",
    "                             grid=True,        # Enable grid\n",
    "                             title='Best Simulated Annealing')\n",
    "\n",
    "# Set x-axis label with increased font size\n",
    "ax.set_xlabel(\"Iterations\", fontsize=14)\n",
    "\n",
    "# Set y-axis label with increased font size\n",
    "ax.set_ylabel(\"Value\", fontsize=14)\n",
    "\n",
    "# Set the title's font size larger\n",
    "ax.set_title('Best Simulated Annealing', fontsize=16)\n",
    "\n",
    "# Set grid appearance to grey and dotted\n",
    "ax.grid(True, linestyle='--', which='both', color='grey', alpha=.7)"
   ]
  },
  {
   "cell_type": "markdown",
   "metadata": {},
   "source": [
    "## Genetic Alg"
   ]
  },
  {
   "cell_type": "code",
   "execution_count": 11,
   "metadata": {
    "scrolled": true
   },
   "outputs": [
    {
     "name": "stdout",
     "output_type": "stream",
     "text": [
      "Wall time: 32.9 s\n"
     ]
    }
   ],
   "source": [
    "%%time\n",
    "\n",
    "# Set up Genetic Algorithm (GA) runner with various parameters for optimization.\n",
    "ga = mlrose_hiive.GARunner(problem=problem,\n",
    "                          experiment_name=\"GA_Exp\",\n",
    "                          seed=1,\n",
    "                          iteration_list=[100000],\n",
    "                          max_attempts=100,\n",
    "                          population_sizes=[20,50,100],       # Different population sizes to experiment with.\n",
    "                          mutation_rates=[0.1, 0.25, 0.5])    # Different mutation rates to experiment with.\n",
    "\n",
    "# Execute the GA optimization and store results.\n",
    "ga_run_stats, ga_run_curves = ga.run()   "
   ]
  },
  {
   "cell_type": "code",
   "execution_count": 25,
   "metadata": {
    "scrolled": false
   },
   "outputs": [
    {
     "name": "stdout",
     "output_type": "stream",
     "text": [
      "Genetic Algorithm - Max Fitness, Average Fitness, and Average Time per Iteration:\n",
      "--------------------------------------------------------------------------------\n",
      "Max Fitness: 442.0\n",
      "Average Fitness: 411.0\n",
      "Average Time per Iteration: 3.6417645333333186\n",
      "\n",
      "\n",
      "Genetic Algorithm - Average Fitness by Mutation Rate:\n",
      "-----------------------------------------------------\n",
      "Mutation Rate\n",
      "0.10    392.666667\n",
      "0.25    411.666667\n",
      "0.50    428.666667\n",
      "Name: Fitness, dtype: float64\n",
      "\n",
      "\n",
      "Genetic Algorithm - Average Time by Mutation Rate:\n",
      "--------------------------------------------------\n",
      "Mutation Rate\n",
      "0.10    3.384545\n",
      "0.25    3.041609\n",
      "0.50    4.499140\n",
      "Name: Time, dtype: float64\n",
      "\n",
      "\n",
      "Genetic Algorithm - Average Fitness by Population Size:\n",
      "-------------------------------------------------------\n",
      "Population Size\n",
      "20     387.666667\n",
      "50     417.666667\n",
      "100    427.666667\n",
      "Name: Fitness, dtype: float64\n",
      "\n",
      "\n",
      "Genetic Algorithm - Average Time by Population Size:\n",
      "---------------------------------------------------\n",
      "Population Size\n",
      "20     1.894644\n",
      "50     3.488307\n",
      "100    5.542343\n",
      "Name: Time, dtype: float64\n"
     ]
    }
   ],
   "source": [
    "# Filter out the data from the initial state (Iteration = 0) for the Genetic Algorithm run.\n",
    "last_iters = ga_run_stats[ga_run_stats.Iteration != 0].reset_index()\n",
    "\n",
    "# Print the maximum fitness, average fitness, and the average time per iteration for the Genetic Algorithm.\n",
    "print(\"Genetic Algorithm - Max Fitness, Average Fitness, and Average Time per Iteration:\")\n",
    "print(\"--------------------------------------------------------------------------------\")\n",
    "print(\"Max Fitness:\", last_iters.Fitness.max())\n",
    "print(\"Average Fitness:\", last_iters.Fitness.mean())\n",
    "print(\"Average Time per Iteration:\", last_iters.Time.mean())\n",
    "print(\"\\n\")\n",
    "\n",
    "# Group the results by Mutation Rate and calculate the average fitness for each rate.\n",
    "print(\"Genetic Algorithm - Average Fitness by Mutation Rate:\")\n",
    "print(\"-----------------------------------------------------\")\n",
    "print(last_iters.groupby(\"Mutation Rate\").Fitness.mean())\n",
    "print(\"\\n\")\n",
    "\n",
    "# Group the results by Mutation Rate and calculate the average time taken for each rate.\n",
    "print(\"Genetic Algorithm - Average Time by Mutation Rate:\")\n",
    "print(\"--------------------------------------------------\")\n",
    "print(last_iters.groupby(\"Mutation Rate\").Time.mean())\n",
    "print(\"\\n\")\n",
    "\n",
    "# Group the results by Population Size and calculate the average fitness for each population size.\n",
    "print(\"Genetic Algorithm - Average Fitness by Population Size:\")\n",
    "print(\"-------------------------------------------------------\")\n",
    "print(last_iters.groupby(\"Population Size\").Fitness.mean())\n",
    "print(\"\\n\")\n",
    "\n",
    "# Group the results by Population Size and calculate the average time taken for each population size.\n",
    "print(\"Genetic Algorithm - Average Time by Population Size:\")\n",
    "print(\"---------------------------------------------------\")\n",
    "print(last_iters.groupby(\"Population Size\").Time.mean())"
   ]
  },
  {
   "cell_type": "code",
   "execution_count": 13,
   "metadata": {},
   "outputs": [
    {
     "name": "stdout",
     "output_type": "stream",
     "text": [
      "GA Average Fitness: 411.0\n",
      "GA Maximum Fitness: 442.0\n",
      "GA Average Time for an Iteration: 3.6417645333333186\n"
     ]
    }
   ],
   "source": [
    "# Filter out initial state (Iteration = 0) to focus on the optimization progress with Genetic Algorithm.\n",
    "last_iters_ga = ga_run_stats[ga_run_stats.Iteration != 0].reset_index()\n",
    "\n",
    "# Calculate the average and maximum fitness values for the GA run.\n",
    "average_fitness_ga = last_iters_ga.Fitness.mean()\n",
    "max_fitness_ga = last_iters_ga.Fitness.max()\n",
    "\n",
    "# Display the fitness results from the GA run.\n",
    "print(\"GA Average Fitness:\", average_fitness_ga)\n",
    "print(\"GA Maximum Fitness:\", max_fitness_ga)\n",
    "\n",
    "# Calculate and display the average iteration time for the GA run.\n",
    "average_time_ga = last_iters_ga.Time.mean()\n",
    "print(\"GA Average Time for an Iteration:\", average_time_ga)"
   ]
  },
  {
   "cell_type": "code",
   "execution_count": 31,
   "metadata": {},
   "outputs": [
    {
     "name": "stdout",
     "output_type": "stream",
     "text": [
      "Genetic Algorithm - Results for Best Parameters (Population Size: 100, Mutation Rate: 0.5):\n",
      "---------------------------------------------------------------------------------------------------------------------\n",
      "Average Fitness: 340.5\n",
      "Maximum Fitness: 442.0\n",
      "Average Time for an Iteration: 3.6448093499993774\n",
      "\n",
      "\n"
     ]
    }
   ],
   "source": [
    "# 1. Identify the best parameter set based on maximum fitness.\n",
    "best_pop_size = ga_run_stats.loc[ga_run_stats['Fitness'].idxmax()]['Population Size']\n",
    "best_mutation_rate = ga_run_stats.loc[ga_run_stats['Fitness'].idxmax()]['Mutation Rate']\n",
    "\n",
    "# 2. Filter the results to only include data for the best parameter set.\n",
    "best_params_data = ga_run_stats[(ga_run_stats['Population Size'] == best_pop_size) & \n",
    "                                (ga_run_stats['Mutation Rate'] == best_mutation_rate)]\n",
    "\n",
    "# 3. Compute the metrics for the best parameter set.\n",
    "print(f\"Genetic Algorithm - Results for Best Parameters (Population Size: {best_pop_size}, Mutation Rate: {best_mutation_rate}):\")\n",
    "print(\"---------------------------------------------------------------------------------------------------------------------\")\n",
    "print(\"Average Fitness:\", best_params_data.Fitness.mean())\n",
    "print(\"Maximum Fitness:\", best_params_data.Fitness.max())\n",
    "print(\"Average Time for an Iteration:\", best_params_data.Time.mean())\n",
    "print(\"\\n\")"
   ]
  },
  {
   "cell_type": "code",
   "execution_count": 14,
   "metadata": {},
   "outputs": [
    {
     "data": {
      "image/png": "[encoded data removed]",
      "text/plain": [
       "<Figure size 864x576 with 1 Axes>"
      ]
     },
     "metadata": {
      "needs_background": "light"
     },
     "output_type": "display_data"
    }
   ],
   "source": [
    "# Find the parameters corresponding to the run with the highest fitness value for GA\n",
    "best_params = ga_run_curves.iloc[ga_run_curves.Fitness.idxmax()]\n",
    "\n",
    "best_population_size = best_params['Population Size']\n",
    "best_mutation_rate = best_params['Mutation Rate']\n",
    "\n",
    "# Filter the curves to only include data from the best run\n",
    "best_ga_curve = ga_run_curves[(ga_run_curves['Population Size'] == best_population_size) & \n",
    "                              (ga_run_curves['Mutation Rate'] == best_mutation_rate)]\n",
    "\n",
    "# Plotting the best GA curve's fitness over iterations\n",
    "ax = best_ga_curve.Fitness.plot(lw=2, \n",
    "                                color='blue',     # Set the line color to blue\n",
    "                                marker='.', \n",
    "                                markersize=2, \n",
    "                                figsize=(12,8), \n",
    "                                grid=True,        # Enable grid\n",
    "                                title='Best Genetic Algorithm')\n",
    "\n",
    "# Set x-axis label with increased font size\n",
    "ax.set_xlabel(\"Iterations\", fontsize=14)\n",
    "\n",
    "# Set y-axis label with increased font size\n",
    "ax.set_ylabel(\"Value\", fontsize=14)\n",
    "\n",
    "# Set the title's font size larger\n",
    "ax.set_title('Best Genetic Algorithm', fontsize=16)\n",
    "\n",
    "# Set grid appearance to grey and dotted\n",
    "ax.grid(True, linestyle='--', which='both', color='grey', alpha=.7)"
   ]
  },
  {
   "cell_type": "markdown",
   "metadata": {},
   "source": [
    "## MIMIC"
   ]
  },
  {
   "cell_type": "code",
   "execution_count": 15,
   "metadata": {
    "scrolled": true
   },
   "outputs": [
    {
     "name": "stdout",
     "output_type": "stream",
     "text": [
      "Wall time: 12min 12s\n"
     ]
    }
   ],
   "source": [
    "%%time\n",
    "\n",
    "# Initialize MIMIC optimization with various settings.\n",
    "mmc = mlrose_hiive.MIMICRunner(problem=problem,\n",
    "                          experiment_name=\"MMC_Exp\",\n",
    "                          seed=1,\n",
    "                          iteration_list=[100000],\n",
    "                          max_attempts=100,\n",
    "                          population_sizes=[20,50,100],\n",
    "                          keep_percent_list=[0.25, 0.5, 0.75],\n",
    "                          use_fast_mimic=True)\n",
    "\n",
    "# Run MIMIC and capture the statistics and curve results.\n",
    "mmc_run_stats, mmc_run_curves = mmc.run()"
   ]
  },
  {
   "cell_type": "code",
   "execution_count": 26,
   "metadata": {},
   "outputs": [
    {
     "name": "stdout",
     "output_type": "stream",
     "text": [
      "MIMIC - Max Fitness, Average Fitness, and Average Time per Iteration:\n",
      "--------------------------------------------------------------------\n",
      "Max Fitness: 363.0\n",
      "Average Fitness: 322.8888888888889\n",
      "Average Time per Iteration: 81.34009436666686\n",
      "\n",
      "\n",
      "MIMIC - Average Fitness by Keep Percent:\n",
      "----------------------------------------\n",
      "Keep Percent\n",
      "0.25    319.000000\n",
      "0.50    329.333333\n",
      "0.75    320.333333\n",
      "Name: Fitness, dtype: float64\n",
      "\n",
      "\n",
      "MIMIC - Average Time by Keep Percent:\n",
      "------------------------------------\n",
      "Keep Percent\n",
      "0.25    66.129783\n",
      "0.50    87.493579\n",
      "0.75    90.396921\n",
      "Name: Time, dtype: float64\n",
      "\n",
      "\n",
      "MIMIC - Average Fitness by Population Size:\n",
      "-------------------------------------------\n",
      "Population Size\n",
      "20     286.333333\n",
      "50     324.666667\n",
      "100    357.666667\n",
      "Name: Fitness, dtype: float64\n",
      "\n",
      "\n",
      "MIMIC - Average Time by Population Size:\n",
      "---------------------------------------\n",
      "Population Size\n",
      "20      38.154327\n",
      "50      77.502226\n",
      "100    128.363730\n",
      "Name: Time, dtype: float64\n"
     ]
    }
   ],
   "source": [
    "# Filter out the data from the initial state (Iteration = 0) for the MIMIC run.\n",
    "last_iters = mmc_run_stats[mmc_run_stats.Iteration != 0].reset_index()\n",
    "\n",
    "# Print the maximum fitness, average fitness, and the average time per iteration.\n",
    "print(\"MIMIC - Max Fitness, Average Fitness, and Average Time per Iteration:\")\n",
    "print(\"--------------------------------------------------------------------\")\n",
    "print(\"Max Fitness:\", last_iters.Fitness.max())\n",
    "print(\"Average Fitness:\", last_iters.Fitness.mean())\n",
    "print(\"Average Time per Iteration:\", last_iters.Time.mean())\n",
    "print(\"\\n\")\n",
    "\n",
    "# Group the results by Keep Percent and calculate the average fitness and average time for each percent.\n",
    "print(\"MIMIC - Average Fitness by Keep Percent:\")\n",
    "print(\"----------------------------------------\")\n",
    "print(last_iters.groupby(\"Keep Percent\").Fitness.mean())\n",
    "print(\"\\n\")\n",
    "\n",
    "print(\"MIMIC - Average Time by Keep Percent:\")\n",
    "print(\"------------------------------------\")\n",
    "print(last_iters.groupby(\"Keep Percent\").Time.mean())\n",
    "print(\"\\n\")\n",
    "\n",
    "# Group the results by Population Size and calculate the average fitness for each population size.\n",
    "print(\"MIMIC - Average Fitness by Population Size:\")\n",
    "print(\"-------------------------------------------\")\n",
    "print(last_iters.groupby(\"Population Size\").Fitness.mean())\n",
    "print(\"\\n\")\n",
    "\n",
    "# Group the results by Population Size and calculate the average time taken for each population size.\n",
    "print(\"MIMIC - Average Time by Population Size:\")\n",
    "print(\"---------------------------------------\")\n",
    "print(last_iters.groupby(\"Population Size\").Time.mean())"
   ]
  },
  {
   "cell_type": "code",
   "execution_count": 17,
   "metadata": {},
   "outputs": [
    {
     "name": "stdout",
     "output_type": "stream",
     "text": [
      "MMC Average Fitness: 322.8888888888889\n",
      "MMC Maximum Fitness: 363.0\n",
      "MMC Average Time for an Iteration: 81.34009436666686\n"
     ]
    }
   ],
   "source": [
    "# Filter out initial state (Iteration = 0) to focus on the optimization progress with MIMIC.\n",
    "last_iters_mmc = mmc_run_stats[mmc_run_stats.Iteration != 0].reset_index()\n",
    "\n",
    "# Calculate the average and maximum fitness values for the MMC run.\n",
    "average_fitness_mmc = last_iters_mmc.Fitness.mean()\n",
    "max_fitness_mmc = last_iters_mmc.Fitness.max()\n",
    "\n",
    "# Display the fitness results from the MMC run.\n",
    "print(\"MMC Average Fitness:\", average_fitness_mmc)\n",
    "print(\"MMC Maximum Fitness:\", max_fitness_mmc)\n",
    "\n",
    "# Calculate and display the average iteration time for the MMC run.\n",
    "average_time_mmc = last_iters_mmc.Time.mean()\n",
    "print(\"MMC Average Time for an Iteration:\", average_time_mmc)"
   ]
  },
  {
   "cell_type": "code",
   "execution_count": 32,
   "metadata": {},
   "outputs": [
    {
     "name": "stdout",
     "output_type": "stream",
     "text": [
      "MIMIC - Results for Best Parameters (Population Size: 100, Keep Percent: 0.5):\n",
      "----------------------------------------------------------------------------------------------------------------\n",
      "Average Fitness: 301.0\n",
      "Maximum Fitness: 363.0\n",
      "Average Time for an Iteration: 78.53281365000112\n",
      "\n",
      "\n"
     ]
    }
   ],
   "source": [
    "# 1. Identify the best parameter set based on maximum fitness.\n",
    "best_pop_size = mmc_run_stats.loc[mmc_run_stats['Fitness'].idxmax()]['Population Size']\n",
    "best_keep_percent = mmc_run_stats.loc[mmc_run_stats['Fitness'].idxmax()]['Keep Percent']\n",
    "\n",
    "# 2. Filter the results to only include data for the best parameter set.\n",
    "best_params_data = mmc_run_stats[(mmc_run_stats['Population Size'] == best_pop_size) & \n",
    "                                 (mmc_run_stats['Keep Percent'] == best_keep_percent)]\n",
    "\n",
    "# 3. Compute the metrics for the best parameter set.\n",
    "print(f\"MIMIC - Results for Best Parameters (Population Size: {best_pop_size}, Keep Percent: {best_keep_percent}):\")\n",
    "print(\"----------------------------------------------------------------------------------------------------------------\")\n",
    "print(\"Average Fitness:\", best_params_data.Fitness.mean())\n",
    "print(\"Maximum Fitness:\", best_params_data.Fitness.max())\n",
    "print(\"Average Time for an Iteration:\", best_params_data.Time.mean())\n",
    "print(\"\\n\")"
   ]
  },
  {
   "cell_type": "code",
   "execution_count": 18,
   "metadata": {},
   "outputs": [
    {
     "data": {
      "image/png": "[encoded data removed]",
      "text/plain": [
       "<Figure size 864x576 with 1 Axes>"
      ]
     },
     "metadata": {
      "needs_background": "light"
     },
     "output_type": "display_data"
    }
   ],
   "source": [
    "# Find the parameters corresponding to the run with the highest fitness value for MMC\n",
    "best_params_mmc = mmc_run_curves.iloc[mmc_run_curves.Fitness.idxmax()]\n",
    "\n",
    "best_population_size_mmc = best_params_mmc['Population Size']\n",
    "best_keep_percent = best_params_mmc['Keep Percent']\n",
    "\n",
    "# Filter the curves to only include data from the best MMC run\n",
    "best_mmc_curve = mmc_run_curves[(mmc_run_curves['Population Size'] == best_population_size_mmc) & \n",
    "                                (mmc_run_curves['Keep Percent'] == best_keep_percent)]\n",
    "\n",
    "# Plotting the best MMC curve's fitness over iterations\n",
    "ax_mmc = best_mmc_curve.Fitness.plot(lw=2, \n",
    "                                     color='blue',     # Set the line color to green for distinction\n",
    "                                     marker='.', \n",
    "                                     markersize=2, \n",
    "                                     figsize=(12,8), \n",
    "                                     grid=True,        # Enable grid\n",
    "                                     title='Best MIMIC')\n",
    "\n",
    "# Set x-axis label with increased font size\n",
    "ax_mmc.set_xlabel(\"Iterations\", fontsize=14)\n",
    "\n",
    "# Set y-axis label with increased font size\n",
    "ax_mmc.set_ylabel(\"Value\", fontsize=14)\n",
    "\n",
    "# Set the title's font size larger\n",
    "ax_mmc.set_title('Best MIMIC', fontsize=16)\n",
    "\n",
    "# Set grid appearance to grey and dotted\n",
    "ax_mmc.grid(True, linestyle='--', which='both', color='grey', alpha=.7)"
   ]
  },
  {
   "cell_type": "code",
   "execution_count": 19,
   "metadata": {},
   "outputs": [],
   "source": [
    "rhc_run_stats.to_pickle(\"./flipFlop_rhc_run_stats.pkl\")\n",
    "rhc_run_curves.to_pickle(\"./flipFlop_rhc_run_curves.pkl\")\n",
    "sa_run_stats.to_pickle(\"./flipFlop_sa_run_stats.pkl\")\n",
    "sa_run_curves.to_pickle(\"./flipFlop_sa_run_curves.pkl\")\n",
    "ga_run_stats.to_pickle(\"./flipFlop_ga_run_stats.pkl\")\n",
    "ga_run_curves.to_pickle(\"./flipFlop_ga_run_curves.pkl\")\n",
    "mmc_run_stats.to_pickle(\"./flipFlop_mmc_run_stats.pkl\")\n",
    "mmc_run_curves.to_pickle(\"./flipFlop_mmc_run_curves.pkl\")"
   ]
  },
  {
   "cell_type": "code",
   "execution_count": 20,
   "metadata": {},
   "outputs": [
    {
     "data": {
      "text/html": [
       "<div>\n",
       "<style scoped>\n",
       "    .dataframe tbody tr th:only-of-type {\n",
       "        vertical-align: middle;\n",
       "    }\n",
       "\n",
       "    .dataframe tbody tr th {\n",
       "        vertical-align: top;\n",
       "    }\n",
       "\n",
       "    .dataframe thead th {\n",
       "        text-align: right;\n",
       "    }\n",
       "</style>\n",
       "<table border=\"1\" class=\"dataframe\">\n",
       "  <thead>\n",
       "    <tr style=\"text-align: right;\">\n",
       "      <th></th>\n",
       "      <th>Iteration</th>\n",
       "      <th>Fitness</th>\n",
       "      <th>FEvals</th>\n",
       "      <th>Time</th>\n",
       "      <th>State</th>\n",
       "      <th>Restarts</th>\n",
       "      <th>max_iters</th>\n",
       "      <th>current_restart</th>\n",
       "    </tr>\n",
       "  </thead>\n",
       "  <tbody>\n",
       "    <tr>\n",
       "      <th>0</th>\n",
       "      <td>0</td>\n",
       "      <td>239.0</td>\n",
       "      <td>0</td>\n",
       "      <td>0.005091</td>\n",
       "      <td>[1, 1, 0, 0, 1, 1, 1, 1, 1, 0, 0, 1, 0, 1, 1, ...</td>\n",
       "      <td>100</td>\n",
       "      <td>10000</td>\n",
       "      <td>0</td>\n",
       "    </tr>\n",
       "    <tr>\n",
       "      <th>1</th>\n",
       "      <td>10000</td>\n",
       "      <td>378.0</td>\n",
       "      <td>782</td>\n",
       "      <td>1.024746</td>\n",
       "      <td>[0, 1, 0, 0, 1, 1, 0, 1, 1, 0, 0, 1, 0, 1, 1, ...</td>\n",
       "      <td>100</td>\n",
       "      <td>10000</td>\n",
       "      <td>0</td>\n",
       "    </tr>\n",
       "    <tr>\n",
       "      <th>2</th>\n",
       "      <td>0</td>\n",
       "      <td>250.0</td>\n",
       "      <td>782</td>\n",
       "      <td>1.035400</td>\n",
       "      <td>[0, 0, 0, 1, 0, 1, 1, 0, 1, 1, 0, 0, 0, 0, 1, ...</td>\n",
       "      <td>100</td>\n",
       "      <td>10000</td>\n",
       "      <td>1</td>\n",
       "    </tr>\n",
       "    <tr>\n",
       "      <th>3</th>\n",
       "      <td>10000</td>\n",
       "      <td>390.0</td>\n",
       "      <td>1978</td>\n",
       "      <td>3.222039</td>\n",
       "      <td>[0, 1, 0, 1, 0, 1, 1, 0, 1, 1, 0, 0, 1, 0, 1, ...</td>\n",
       "      <td>100</td>\n",
       "      <td>10000</td>\n",
       "      <td>1</td>\n",
       "    </tr>\n",
       "    <tr>\n",
       "      <th>4</th>\n",
       "      <td>0</td>\n",
       "      <td>252.0</td>\n",
       "      <td>1978</td>\n",
       "      <td>3.230235</td>\n",
       "      <td>[0, 1, 1, 0, 1, 0, 0, 1, 0, 0, 1, 1, 1, 1, 1, ...</td>\n",
       "      <td>100</td>\n",
       "      <td>10000</td>\n",
       "      <td>2</td>\n",
       "    </tr>\n",
       "    <tr>\n",
       "      <th>...</th>\n",
       "      <td>...</td>\n",
       "      <td>...</td>\n",
       "      <td>...</td>\n",
       "      <td>...</td>\n",
       "      <td>...</td>\n",
       "      <td>...</td>\n",
       "      <td>...</td>\n",
       "      <td>...</td>\n",
       "    </tr>\n",
       "    <tr>\n",
       "      <th>197</th>\n",
       "      <td>10000</td>\n",
       "      <td>397.0</td>\n",
       "      <td>97365</td>\n",
       "      <td>2908.870154</td>\n",
       "      <td>[0, 1, 0, 1, 0, 0, 0, 1, 0, 1, 0, 1, 0, 1, 0, ...</td>\n",
       "      <td>100</td>\n",
       "      <td>10000</td>\n",
       "      <td>98</td>\n",
       "    </tr>\n",
       "    <tr>\n",
       "      <th>198</th>\n",
       "      <td>0</td>\n",
       "      <td>251.0</td>\n",
       "      <td>97365</td>\n",
       "      <td>2909.043132</td>\n",
       "      <td>[0, 1, 1, 0, 1, 0, 0, 0, 0, 0, 1, 1, 0, 1, 1, ...</td>\n",
       "      <td>100</td>\n",
       "      <td>10000</td>\n",
       "      <td>99</td>\n",
       "    </tr>\n",
       "    <tr>\n",
       "      <th>199</th>\n",
       "      <td>10000</td>\n",
       "      <td>385.0</td>\n",
       "      <td>98195</td>\n",
       "      <td>2956.010089</td>\n",
       "      <td>[0, 1, 1, 0, 1, 0, 0, 1, 0, 0, 1, 1, 0, 1, 1, ...</td>\n",
       "      <td>100</td>\n",
       "      <td>10000</td>\n",
       "      <td>99</td>\n",
       "    </tr>\n",
       "    <tr>\n",
       "      <th>200</th>\n",
       "      <td>0</td>\n",
       "      <td>242.0</td>\n",
       "      <td>98195</td>\n",
       "      <td>2956.182489</td>\n",
       "      <td>[1, 1, 0, 0, 1, 0, 0, 0, 1, 1, 1, 1, 1, 0, 0, ...</td>\n",
       "      <td>100</td>\n",
       "      <td>10000</td>\n",
       "      <td>100</td>\n",
       "    </tr>\n",
       "    <tr>\n",
       "      <th>201</th>\n",
       "      <td>10000</td>\n",
       "      <td>388.0</td>\n",
       "      <td>99000</td>\n",
       "      <td>3001.666880</td>\n",
       "      <td>[0, 1, 0, 0, 1, 0, 1, 0, 1, 1, 0, 1, 1, 0, 0, ...</td>\n",
       "      <td>100</td>\n",
       "      <td>10000</td>\n",
       "      <td>100</td>\n",
       "    </tr>\n",
       "  </tbody>\n",
       "</table>\n",
       "<p>202 rows × 8 columns</p>\n",
       "</div>"
      ],
      "text/plain": [
       "     Iteration  Fitness  FEvals         Time  \\\n",
       "0            0    239.0       0     0.005091   \n",
       "1        10000    378.0     782     1.024746   \n",
       "2            0    250.0     782     1.035400   \n",
       "3        10000    390.0    1978     3.222039   \n",
       "4            0    252.0    1978     3.230235   \n",
       "..         ...      ...     ...          ...   \n",
       "197      10000    397.0   97365  2908.870154   \n",
       "198          0    251.0   97365  2909.043132   \n",
       "199      10000    385.0   98195  2956.010089   \n",
       "200          0    242.0   98195  2956.182489   \n",
       "201      10000    388.0   99000  3001.666880   \n",
       "\n",
       "                                                 State  Restarts  max_iters  \\\n",
       "0    [1, 1, 0, 0, 1, 1, 1, 1, 1, 0, 0, 1, 0, 1, 1, ...       100      10000   \n",
       "1    [0, 1, 0, 0, 1, 1, 0, 1, 1, 0, 0, 1, 0, 1, 1, ...       100      10000   \n",
       "2    [0, 0, 0, 1, 0, 1, 1, 0, 1, 1, 0, 0, 0, 0, 1, ...       100      10000   \n",
       "3    [0, 1, 0, 1, 0, 1, 1, 0, 1, 1, 0, 0, 1, 0, 1, ...       100      10000   \n",
       "4    [0, 1, 1, 0, 1, 0, 0, 1, 0, 0, 1, 1, 1, 1, 1, ...       100      10000   \n",
       "..                                                 ...       ...        ...   \n",
       "197  [0, 1, 0, 1, 0, 0, 0, 1, 0, 1, 0, 1, 0, 1, 0, ...       100      10000   \n",
       "198  [0, 1, 1, 0, 1, 0, 0, 0, 0, 0, 1, 1, 0, 1, 1, ...       100      10000   \n",
       "199  [0, 1, 1, 0, 1, 0, 0, 1, 0, 0, 1, 1, 0, 1, 1, ...       100      10000   \n",
       "200  [1, 1, 0, 0, 1, 0, 0, 0, 1, 1, 1, 1, 1, 0, 0, ...       100      10000   \n",
       "201  [0, 1, 0, 0, 1, 0, 1, 0, 1, 1, 0, 1, 1, 0, 0, ...       100      10000   \n",
       "\n",
       "     current_restart  \n",
       "0                  0  \n",
       "1                  0  \n",
       "2                  1  \n",
       "3                  1  \n",
       "4                  2  \n",
       "..               ...  \n",
       "197               98  \n",
       "198               99  \n",
       "199               99  \n",
       "200              100  \n",
       "201              100  \n",
       "\n",
       "[202 rows x 8 columns]"
      ]
     },
     "execution_count": 20,
     "metadata": {},
     "output_type": "execute_result"
    }
   ],
   "source": [
    "df = pd.read_pickle(\"./flipFlop_rhc_run_stats.pkl\")\n",
    "\n",
    "df"
   ]
  },
  {
   "cell_type": "code",
   "execution_count": null,
   "metadata": {},
   "outputs": [],
   "source": []
  }
 ],
 "metadata": {
  "kernelspec": {
   "display_name": "Python 3 (ipykernel)",
   "language": "python",
   "name": "python3"
  },
  "language_info": {
   "codemirror_mode": {
    "name": "ipython",
    "version": 3
   },
   "file_extension": ".py",
   "mimetype": "text/x-python",
   "name": "python",
   "nbconvert_exporter": "python",
   "pygments_lexer": "ipython3",
   "version": "3.9.7"
  }
 },
 "nbformat": 4,
 "nbformat_minor": 4
}
